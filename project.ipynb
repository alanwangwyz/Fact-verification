{
 "cells": [
  {
   "cell_type": "markdown",
   "metadata": {},
   "source": [
    "## COMP90042 Automatic Fact Verification \n",
    "----------\n",
    "    \n",
    "`1.` [Loading Data](#1)\n",
    "\n",
    "    1.1 Loading Packages\n",
    "    1.2 Loading Train, Dev, Test and Filtering Train\n",
    "\n",
    "`2.` [Pre-processing and Information Retrival](#2)\n",
    "\n",
    "    2.1 Preprocessor\n",
    "    2.2 WikiRetriever\n",
    "    \n",
    "`3.` [Sentence Selection](#3)\n",
    "    \n",
    "    3.1 Word2Vec & Glove\n",
    "    3.2 Get Top K Sentences\n",
    "\n",
    "`4.` [Generate Prediction](#4)\n",
    "    \n",
    "    4.1 Allennlp Textual Entailment (TE) model\n",
    "    \n",
    "`5.` [Evaluation](#4)\n",
    "    \n",
    "    5.1 Test Data\n",
    "    "
   ]
  },
  {
   "cell_type": "markdown",
   "metadata": {},
   "source": [
    "<a class=\"anchor\" id=\"1\"></a>\n",
    "## 1. Loading Data\n",
    "---"
   ]
  },
  {
   "cell_type": "markdown",
   "metadata": {},
   "source": [
    "### 1.1 Loading Packages"
   ]
  },
  {
   "cell_type": "code",
   "execution_count": 12,
   "metadata": {},
   "outputs": [],
   "source": [
    "import json, nltk, re, pickle, spacy, string, \\\n",
    "        sys, os, lucene, threading, time, shutil, glob\n",
    "\n",
    "import pandas as pd\n",
    "import numpy as np\n",
    "import matplotlib.pyplot as plt\n",
    "from collections import Counter, defaultdict\n",
    "from pprint import pprint\n",
    "\n",
    "from allennlp.predictors.predictor import Predictor\n",
    "from gensim import models\n",
    "from gensim.scripts.glove2word2vec import glove2word2vec\n",
    "import seaborn as sns\n",
    "from spacy import displacy\n",
    "from spacy.tokenizer import Tokenizer\n",
    "from spacy.util import compile_prefix_regex, compile_infix_regex, compile_suffix_regex\n",
    "\n",
    "from nltk.corpus import stopwords\n",
    "from collections import defaultdict\n",
    "from java.util import Arrays\n",
    "from java.nio.file import Paths\n",
    "\n",
    "from org.apache.lucene.document import Document, Field, FieldType\n",
    "from org.apache.lucene.index import \\\n",
    "        FieldInfo, IndexWriter, IndexWriterConfig, IndexOptions, DirectoryReader\n",
    "from org.apache.lucene.store import SimpleFSDirectory\n",
    "from org.apache.lucene.search import IndexSearcher\n",
    "from org.apache.lucene.search.similarities import BM25Similarity\n",
    "from org.apache.lucene.analysis.standard import StandardAnalyzer\n",
    "from org.apache.lucene.queryparser.classic import QueryParser\n",
    "from org.apache.lucene.analysis import \\\n",
    "        LowerCaseFilter, StopFilter, CharArraySet\n",
    "from org.apache.lucene.analysis.core import StopAnalyzer\n",
    "from org.apache.lucene.analysis.en import PorterStemFilter\n",
    "from org.apache.lucene.analysis.standard import \\\n",
    "        StandardTokenizer, StandardFilter\n",
    "from org.apache.pylucene.analysis import PythonAnalyzer\n",
    "\n",
    "#!python3 -m spacy download en_core_web_lg # takes about 800M\n",
    "#!wget http://nlp.stanford.edu/data/glove.42B.300d.zip"
   ]
  },
  {
   "cell_type": "code",
   "execution_count": 84,
   "metadata": {},
   "outputs": [
    {
     "data": {
      "text/plain": [
       "<jcc.JCCEnv at 0x1a96c6ffd8>"
      ]
     },
     "execution_count": 84,
     "metadata": {},
     "output_type": "execute_result"
    }
   ],
   "source": [
    "w2v_model = models.KeyedVectors.load_word2vec_format(\n",
    "    'GoogleNews-vectors-negative300.bin.gz', binary=True)\n",
    "\n",
    "# if not os.path.exists('gensim_glove_vectors.txt'):\n",
    "#     glove2word2vec(glove_input_file=\"vectors.txt\", word2vec_output_file=\"gensim_glove_vectors.txt\")\n",
    "# glove_model = models.KeyedVectors.load_word2vec_format(\"gensim_glove_vectors.txt\", binary=False)\n",
    "\n",
    "\n",
    "lucene.initVM(vmargs=['-Djava.awt.headless=true'])"
   ]
  },
  {
   "cell_type": "code",
   "execution_count": 2,
   "metadata": {},
   "outputs": [],
   "source": [
    "def custom_tokenizer(nlp):\n",
    "    infix_re = re.compile(r'''[.\\,\\?\\:\\;\\...\\‘\\’\\`\\“\\”\\\"\\'~]''')\n",
    "    prefix_re = compile_prefix_regex(nlp.Defaults.prefixes)\n",
    "    suffix_re = compile_suffix_regex(nlp.Defaults.suffixes)\n",
    "\n",
    "    return Tokenizer(nlp.vocab, prefix_search=prefix_re.search,\n",
    "                                suffix_search=suffix_re.search,\n",
    "                                infix_finditer=infix_re.finditer,\n",
    "                                token_match=None)\n",
    "\n",
    "def time_diff(start_time):\n",
    "    \"\"\"\n",
    "    Calculate the time different in secs. Used for testing only.\n",
    "    :param start_time: the starting time in secs.\n",
    "    :return: the time different from the start time in secs\n",
    "    \"\"\"\n",
    "    return time.time() - start_time\n",
    "\n",
    "def print_time(start_time, message):\n",
    "    \"\"\"\n",
    "    Print the time different. It is used for testing\n",
    "    :param start_time: start time\n",
    "    :param message: the message to print\n",
    "    :return: None\n",
    "    \"\"\"\n",
    "    result = time_diff(start_time)\n",
    "    print(message, \":\", '% .6f' % result, 'secs')\n",
    "\n",
    "def load_pickle(filepath):\n",
    "    if os.path.getsize(filepath) > 0:\n",
    "        documents_f = open(filepath, 'rb')\n",
    "        unpickler = pickle.Unpickler(documents_f)\n",
    "        file = unpickler.load()\n",
    "        documents_f.close()\n",
    "        return file\n",
    "    else:\n",
    "        print('Cannot load: ', filepath)\n",
    "\n",
    "def save_pickle(data, filepath):\n",
    "    save_documents = open(filepath, 'wb')\n",
    "    pickle.dump(data, save_documents)\n",
    "    save_documents.close()\n",
    "    \n",
    "\n",
    "%matplotlib inline\n",
    "plt.style.use('bmh')\n",
    "%config InlineBackend.figure_format = 'retina'\n",
    "\n",
    "spacy_nlp = spacy.load(\"en_core_web_lg\")\n",
    "spacy_nlp.tokenizer = custom_tokenizer(spacy_nlp)\n",
    "\n",
    "stp = [word for word in list(stopwords.words('english') + [ \"'s\", \"'m\", \"ca\"])\n",
    "        if word not in [\"no\", \"not\"] and word.rfind(\"n't\") == -1] # stopword list exclude not n't "
   ]
  },
  {
   "cell_type": "markdown",
   "metadata": {},
   "source": [
    "### 1.2 Loading Train, Dev, Test and Filtering Train"
   ]
  },
  {
   "cell_type": "code",
   "execution_count": 3,
   "metadata": {},
   "outputs": [],
   "source": [
    "# Data in JSON format\n",
    "training_json_data = None\n",
    "development_json_data = None\n",
    "testing_json_data = None\n",
    "\n",
    "def load_data():\n",
    "    global training_json_data, development_json_data, testing_json_data\n",
    "    with open('train.json') as json_data:\n",
    "        training_json_data = json.load(json_data)        \n",
    "    with open('devset.json') as json_data:\n",
    "        development_json_data = json.load(json_data)\n",
    "    with open('test-unlabelled.json') as json_data:\n",
    "        testing_json_data = json.load(json_data)\n",
    "\n",
    "load_data()\n",
    "\n",
    "# \"\"\"For querying the training_json_data, specific id must be provided, so we replace id with incremental index\"\"\"\n",
    "training_label = []\n",
    "for t in training_json_data:\n",
    "    question = {}\n",
    "    question['id']= t\n",
    "    question['claim']=training_json_data[t]['claim']\n",
    "    question['label']=training_json_data[t]['label']\n",
    "    #print(training_json_data[t]['evidence'])\n",
    "    if len(training_json_data[t]['evidence'])>1:\n",
    "        support = []\n",
    "        for i in range(len(training_json_data[t]['evidence'])):\n",
    "              #print(training_json_data[t]['evidence'][i])\n",
    "              support.append(training_json_data[t]['evidence'][i])\n",
    "        question['evidence']=support\n",
    "    else:\n",
    "        question['evidence']=training_json_data[t]['evidence']\n",
    "    training_label.append(question)\n",
    "\n",
    "development_label = []\n",
    "\n",
    "for t in development_json_data:\n",
    "    question = {}\n",
    "    question['id']= t\n",
    "    question['claim']=development_json_data[t]['claim']\n",
    "    question['label']=development_json_data[t]['label']\n",
    "    if len(development_json_data[t]['evidence'])>1:\n",
    "        support = []\n",
    "        for i in range(len(development_json_data[t]['evidence'])):\n",
    "            support.append(development_json_data[t]['evidence'][i])\n",
    "        question['evidence']=support\n",
    "    else:\n",
    "        question['evidence']=development_json_data[t]['evidence']\n",
    "    development_label.append(question)\n",
    "\n",
    "test_label = []\n",
    "\n",
    "for t in testing_json_data:\n",
    "    question = {}\n",
    "    question['id']= t\n",
    "    question['claim']=testing_json_data[t]['claim']\n",
    "    test_label.append(question)"
   ]
  },
  {
   "cell_type": "code",
   "execution_count": 40,
   "metadata": {},
   "outputs": [
    {
     "name": "stdout",
     "output_type": "stream",
     "text": [
      "[['Roman_Atwood', 1], ['Roman_Atwood', 3], ['Roman_Atwood', 0], ['Roman_Atwood', 4], ['Roman_Atwood', 2], ['Comedian', 5]]\n"
     ]
    }
   ],
   "source": [
    "print(training_label[1]['evidence'])"
   ]
  },
  {
   "cell_type": "markdown",
   "metadata": {},
   "source": [
    "<a id='2'></a>\n",
    "## 2. Pre-processing and Informaiton Retrival\n",
    "---"
   ]
  },
  {
   "cell_type": "markdown",
   "metadata": {},
   "source": [
    "### 2.1 Preprocessor"
   ]
  },
  {
   "cell_type": "code",
   "execution_count": 99,
   "metadata": {},
   "outputs": [],
   "source": [
    "class PreProcessor(object):\n",
    "    '''Pre-processor which cleans text, lemmatises, removes stop words and punctuation, \n",
    "    returns df of processed text.'''\n",
    "\n",
    "    def __init__(self):\n",
    "        self._stopWordList = stp\n",
    "        self._punct_removal = list(string.punctuation) + [\"--\", \"---\", \"-LRB-\", \"-RRB-\"]\n",
    "        self._word_pattern = r\"(?u)\\b\\w\\w+\\b\"\n",
    "        self._label_dict = {'SUPPORTS': 1,\n",
    "                             'REFUTES': 2,\n",
    "                             'NOT ENOUGH INFO': 3\n",
    "                           }\n",
    "        \n",
    "\n",
    "    def _tokenize_text(self, sample):\n",
    "        '''tokenises sentences in order to lemmatise, remove stop words and punctuation, \n",
    "        returns string of processed text\n",
    "        Example:\n",
    "        The following are not (aren't) the football -LRB- soccer -RRB- events of the year 1928 throughout the world .\n",
    "\n",
    "        follow not football soccer event year 1928 throughout world\n",
    "        '''\n",
    "\n",
    "        # get tokens using spacy\n",
    "        tokens = spacy_nlp(sample)\n",
    "\n",
    "        # lemmatising tokens\n",
    "        \n",
    "#         tokens = [t.lemma_.strip()\n",
    "#                   if t.lemma_ != \"-PRON-\"\n",
    "#                   else t.lower_\n",
    "#                   for t in tokens]\n",
    "        \n",
    "        tokens = [t.lemma_.strip()\n",
    "                  for t in tokens]\n",
    "\n",
    "        # stopword and punctuation removal\n",
    "        tokens = [t.lower() for t in tokens\n",
    "                  if (t not in self._stopWordList and t not in self._punct_removal)]\n",
    "\n",
    "        processed_text = \" \".join(tokens)\n",
    "\n",
    "        return processed_text\n",
    "    \n",
    "\n",
    "    def get_noun_chunks(self, sentence):\n",
    "        return [x.text for x in spacy_nlp(sentence).noun_chunks]\n",
    "    \n",
    "    def get_ents(self, sentence):\n",
    "        return [x.text for x in spacy_nlp(sentence).ents]\n",
    "    \n",
    "    def spacy_visualize(self, sentence):\n",
    "        displacy.render(nlp(sentence), jupyter=True, style='ent')\n",
    "        displacy.render(nlp(sentence), style='dep', jupyter = True, options = {'distance': 100})\n",
    "    \n",
    "    \n",
    "    def transform_text(self, data, filename):\n",
    "        '''applies the clean and tokenise methods to the texts, \n",
    "        encodes the target variable to numerical. \n",
    "        Option to set pickle to True to save clean df'''\n",
    "        \n",
    "        data['c_claim'] = data['claim'].apply(lambda row: self._tokenize_text(row))\n",
    "        data['ner'] = data['claim'].apply(lambda row: self.get_ents(row))\n",
    "        data['noun_chunks'] = data['claim'].apply(lambda row: self.get_noun_chunks(row))  \n",
    "        if 'label' in data.columns:\n",
    "            data['label'] = data['label'].apply(lambda row: self._label_dict[row])\n",
    "        \n",
    "        \n",
    "        if not os.path.exists('pickle_data'):\n",
    "            os.mkdir('pickle_data')\n",
    "        save_pickle(data, os.path.join('pickle_data',filename + '.p'))\n"
   ]
  },
  {
   "cell_type": "code",
   "execution_count": 4,
   "metadata": {},
   "outputs": [],
   "source": [
    "\"\"\"For each instance, we apply preprocess by convert the dictionary stucture into dataframe\"\"\"\n",
    "test = pd.DataFrame.from_dict(testing_json_data)\n",
    "train = pd.DataFrame.from_dict(training_label)\n",
    "develop = pd.DataFrame.from_dict(development_json_data)\n",
    "# del test_label, training_label, development_label"
   ]
  },
  {
   "cell_type": "code",
   "execution_count": 108,
   "metadata": {},
   "outputs": [
    {
     "name": "stdout",
     "output_type": "stream",
     "text": [
      "Processing Time :  0.006335 secs\n"
     ]
    }
   ],
   "source": [
    "cost_time = time.time()\n",
    "preprocessor = PreProcessor()\n",
    "# if not os.path.exists('pickle_data/clean_dev.p'):\n",
    "#     preprocessor.transform_text(develop, 'clean_dev')\n",
    "if not os.path.exists('pickle_data/clean_test.p'):\n",
    "    preprocessor.transform_text(test, 'clean_test')\n",
    "if not os.path.exists('pickle_data/clean_train.p'):\n",
    "    preprocessor.transform_text(train, 'clean_train')\n",
    "print_time(cost_time,\"Processing Time\")"
   ]
  },
  {
   "cell_type": "code",
   "execution_count": 5,
   "metadata": {},
   "outputs": [],
   "source": [
    "dataTrain = load_pickle('pickle_data/clean_train.p')\n",
    "# dataDev = load_pickle('pickle_data/clean_dev.p')\n",
    "dataTest = load_pickle('pickle_data/clean_test.p')\n",
    "# del test, train, develop"
   ]
  },
  {
   "cell_type": "code",
   "execution_count": 20,
   "metadata": {},
   "outputs": [
    {
     "data": {
      "image/png": "[encoded data removed]",
      "text/plain": [
       "<Figure size 864x216 with 1 Axes>"
      ]
     },
     "metadata": {
      "image/png": {
       "height": 228,
       "width": 700
      },
      "needs_background": "light"
     },
     "output_type": "display_data"
    }
   ],
   "source": [
    "ax=dataTrain.label.value_counts().plot(kind='barh', figsize=(12,3), fontsize=12, cmap='summer')\n",
    "for p in ax.patches:\n",
    "    ax.annotate(str(p.get_width()), (p.get_x() + p.get_width(), p.get_y()), xytext=(5, 10), textcoords='offset points')\n",
    "plt.title('Count of different classes within training data \\n', size=16)\n",
    "plt.show()"
   ]
  },
  {
   "cell_type": "code",
   "execution_count": 62,
   "metadata": {},
   "outputs": [
    {
     "name": "stdout",
     "output_type": "stream",
     "text": [
      "1.0\n"
     ]
    },
    {
     "data": {
      "text/plain": [
       "Text(0.5, 1.0, 'Evidence Frequence')"
      ]
     },
     "execution_count": 62,
     "metadata": {},
     "output_type": "execute_result"
    },
    {
     "data": {
      "image/png": "[encoded data removed]",
      "text/plain": [
       "<Figure size 432x288 with 1 Axes>"
      ]
     },
     "metadata": {
      "image/png": {
       "height": 278,
       "width": 368
      },
      "needs_background": "light"
     },
     "output_type": "display_data"
    }
   ],
   "source": [
    "ax = train[train['evidence'].str.len()!=0]\n",
    "evidence = ax['evidence'].str.len()\n",
    "#print(evidence.value_counts())\n",
    "ax1=sns.distplot(evidence)\n",
    "mean = ax['evidence'].str.len().mean()\n",
    "median = ax['evidence'].str.len().median()\n",
    "print(mode)\n",
    "plt.xlim(0, 15)\n",
    "ax1.axvline(mean, color='r', linestyle='--')\n",
    "plt.legend({'Mean':mean})\n",
    "_, max_ = plt.ylim()\n",
    "plt.text(evidence.mean() + evidence.mean()/10, \n",
    "         max_ - max_/10, \n",
    "         'Mean: {:.2f}'.format(evidence.mean()))\n",
    "plt.title('Evidence Frequence', size=16)\n",
    "#plt.savefig(\"output.png\",dpi=1000)\n"
   ]
  },
  {
   "cell_type": "markdown",
   "metadata": {},
   "source": [
    "### 2.2 WikiRetriever"
   ]
  },
  {
   "cell_type": "code",
   "execution_count": 85,
   "metadata": {},
   "outputs": [],
   "source": [
    "class WikiAnalyzer(PythonAnalyzer):\n",
    "\n",
    "    def createComponents(self, fieldName):\n",
    "        \"\"\"Custome stopwords dataset including not aren't isn't ...\n",
    "        \"\"\"\n",
    "        source = StandardTokenizer()\n",
    "        filter = StandardFilter(source)\n",
    "        filter = LowerCaseFilter(filter)\n",
    "        filter = StopFilter(filter, CharArraySet(Arrays.asList(stp),False))\n",
    "#         filter = PorterStemFilter(filter)\n",
    "    \n",
    "        \n",
    "        return self.TokenStreamComponents(source, filter)\n",
    "\n",
    "    def initReader(self, fieldName, reader):\n",
    "        return reader\n",
    "\n",
    "class WikiRetriever(object):\n",
    "    def __init__(self):\n",
    "#         env.attachCurrentThread()\n",
    "        self._indexdir = 'pylucene.index'\n",
    "        self._wikidir = 'wiki-pages-text'\n",
    "        \n",
    "        self._store = SimpleFSDirectory(Paths.get(self._indexdir))\n",
    "#         self._analyzer = StandardAnalyzer()\n",
    "        self._analyzer = WikiAnalyzer()\n",
    "        \n",
    "        self._clearIndex(clear=False)\n",
    "\n",
    "        \n",
    "    def _clearIndex(self,clear=True):\n",
    "        if clear:\n",
    "            if os.path.exists(self._indexdir):\n",
    "                shutil.rmtree(self._indexdir)\n",
    "            os.mkdir(self._indexdir)\n",
    "            self._add_doc()\n",
    "        \n",
    "        self._searcher = IndexSearcher(DirectoryReader.open(self._store))\n",
    "        self._searcher.setSimilarity(BM25Similarity())\n",
    "    \n",
    "    def _add_doc(self):\n",
    "        config = IndexWriterConfig(self._analyzer)\n",
    "        config.setOpenMode(IndexWriterConfig.OpenMode.CREATE)\n",
    "        writer = IndexWriter(self._store, config)\n",
    "        \n",
    "        t1 = FieldType()  \n",
    "        t1.setStored(False)\n",
    "        t1.setTokenized(True)\n",
    "        t1.setIndexOptions(IndexOptions.DOCS)\n",
    "        \n",
    "        t2 = FieldType()\n",
    "        t2.setStored(True)\n",
    "        t2.setTokenized(False)\n",
    "        t2.setIndexOptions(IndexOptions.DOCS)\n",
    "        \n",
    "        filepaths = glob.glob(os.path.join(self._wikidir, '*'))\n",
    "        for path in filepaths:\n",
    "            with open(path,'r') as f:\n",
    "                file = path.split(\"/\")[1]\n",
    "                title, sentid, content = f.readline().split(' ',2)\n",
    "                prev_title, doc, contents = title, Document(), ''\n",
    "                f.seek(0)\n",
    "                for line in f:\n",
    "                    title, sentid, content = line.split(' ',2)\n",
    "                    if sentid.isdigit():\n",
    "                        if title != prev_title:\n",
    "                            doc.add(Field(\"contents\",contents, t1))\n",
    "                            doc.add(Field(\"title\",prev_title, t2))\n",
    "                            doc.add(Field(\"filename\",file, t2))\n",
    "                            writer.addDocument(doc)\n",
    "                            prev_title, doc, contents = title, Document(), ''\n",
    "                        contents = contents + content\n",
    "                doc.add(Field(\"contents\",contents, t1))\n",
    "                doc.add(Field(\"title\",prev_title, t2))\n",
    "                doc.add(Field(\"filename\",file, t2))\n",
    "                writer.addDocument(doc) \n",
    "            writer.commit()\n",
    "        writer.close()\n",
    "        \n",
    "        \n",
    "    def _find_possible_title(self, command):\n",
    "        texts = spacy_nlp(command)\n",
    "        results, temp, propn_distance = [], [], 9999\n",
    "        for i,x in enumerate(texts):\n",
    "            if x.pos_ == 'PROPN':\n",
    "                temp.append(x)\n",
    "                propn_distance = 0\n",
    "            elif propn_distance < 1:\n",
    "                temp.append(x)\n",
    "                propn_distance += 1\n",
    "            elif propn_distance == 1:\n",
    "                results.append(temp)\n",
    "                temp = []\n",
    "                propn_distance = 9999\n",
    "        if temp != []:\n",
    "            results.append(temp)\n",
    "            \n",
    "        for i,x in enumerate(texts):\n",
    "            if x.pos_ == 'PROPN':\n",
    "                temp.append(x)\n",
    "            else:\n",
    "                results.append(temp)\n",
    "                temp = []\n",
    "        if temp != []:\n",
    "            results.append(temp)\n",
    "\n",
    "        for m in results:\n",
    "            for n in reversed(m):\n",
    "                if n.pos_ == 'PROPN':\n",
    "                    break\n",
    "                else:\n",
    "                    m.pop()\n",
    "        for i,x in enumerate(results):\n",
    "            results[i] = [y.text for y in x]\n",
    "        results = ['_'.join(x) for x in results]\n",
    "        results = [x.replace(' ', '_') for x in results]\n",
    "        results = [x for x in results if x != '']\n",
    "        return list(set(results))        \n",
    "        \n",
    "    \n",
    "    def ir_search(self, command, num_results=1):\n",
    "        '''Search docs as much as possible\n",
    "        \n",
    "        RETURN: ir_results: list(Document)\n",
    "        USE: ir_results[i].get(\"title\")\n",
    "                          .get(\"filename\") \n",
    "        '''\n",
    "        ir_results, temp_results, maxnum, no_poss_title = [], [], 10000, True\n",
    "        possible_title = self._find_possible_title(command)\n",
    "        \n",
    "        query = QueryParser(\"contents\", self._analyzer).parse(command)\n",
    "        results = self._searcher.search(query, maxnum).scoreDocs\n",
    "#         print('Query: ', query)\n",
    "#         print('Possible Title (Extract from query): ', possible_title)\n",
    "#         print('--------------------------------------------------')\n",
    "        \n",
    "        for i,hit in enumerate(results):\n",
    "            doc = self._searcher.doc(hit.doc)\n",
    "            \n",
    "            if doc.get(\"title\") in possible_title and possible_title != []:\n",
    "                no_poss_title = False\n",
    "                temp_results.append(doc)\n",
    "#                 print('Found potential doc in {}. FILE: {}  DOC: {}' \\\n",
    "#                       .format(str(i), doc.get(\"filename\"), doc.get(\"title\")))\n",
    "            \n",
    "            if no_poss_title and i < num_results:\n",
    "                ir_results.append(doc)\n",
    "        \n",
    "        if not no_poss_title:\n",
    "            no_poss_title = False\n",
    "            ir_results = temp_results[:]\n",
    "        \n",
    "        return ir_results, no_poss_title\n",
    "            \n",
    "    def ir_get_content(self,what_file, what_title):\n",
    "        with open(os.path.join('wiki-pages-text', what_file), 'r') as f:\n",
    "            results = {}\n",
    "            for line in f:\n",
    "                if line == \"\":\n",
    "                    continue \n",
    "                t, sent_id, content = line.split(' ',2)\n",
    "                if t == what_title:\n",
    "                    content = content.replace(\"-LRB-\",\"(\")\n",
    "                    content = content.replace(\"-RRB-\",\")\")\n",
    "                    content = content.replace(\"-LSB-\",\"[\")\n",
    "                    content = content.replace(\"-RSB-\",\"]\")\n",
    "                    content = content.replace(\"-SLH-\", \"/\")\n",
    "                    content = content.replace(\"-COLON-\", \":\")\n",
    "                    content = content.replace(\"\\n\",\"\")\n",
    "                    results[sent_id] = content\n",
    "            return results\n",
    "            "
   ]
  },
  {
   "cell_type": "code",
   "execution_count": 86,
   "metadata": {},
   "outputs": [
    {
     "name": "stdout",
     "output_type": "stream",
     "text": [
      "Building Time :  0.278650 secs\n"
     ]
    }
   ],
   "source": [
    "atime= time.time()\n",
    "aw = WikiRetriever()\n",
    "print_time(atime,\"Building Time\")"
   ]
  },
  {
   "cell_type": "code",
   "execution_count": 62,
   "metadata": {},
   "outputs": [
    {
     "data": {
      "text/plain": [
       "([<Document: Document<stored,indexed,tokenized,indexOptions=DOCS<title:Derek_Hough> stored,indexed,tokenized,indexOptions=DOCS<filename:wiki-027.txt>>>],\n",
       " False)"
      ]
     },
     "execution_count": 62,
     "metadata": {},
     "output_type": "execute_result"
    }
   ],
   "source": [
    "query = \"Derek Hough starred in an American film\"\n",
    "aw.ir_search(query)"
   ]
  },
  {
   "cell_type": "code",
   "execution_count": 61,
   "metadata": {},
   "outputs": [
    {
     "data": {
      "text/plain": [
       "['Derek_Hough']"
      ]
     },
     "execution_count": 61,
     "metadata": {},
     "output_type": "execute_result"
    }
   ],
   "source": [
    "aw._find_possible_title(\"Derek Hough starred in an American film\")"
   ]
  },
  {
   "cell_type": "code",
   "execution_count": 89,
   "metadata": {},
   "outputs": [],
   "source": [
    "d= aw.ir_get_content(\"wiki-027.txt\", \"Derek_Hough\")#12"
   ]
  },
  {
   "cell_type": "code",
   "execution_count": null,
   "metadata": {},
   "outputs": [],
   "source": []
  },
  {
   "cell_type": "markdown",
   "metadata": {},
   "source": [
    "<a id='3'></a>\n",
    "## 3. Sentence Selection \n",
    "---"
   ]
  },
  {
   "cell_type": "markdown",
   "metadata": {},
   "source": [
    "### 3.1 Word2Vec & Glove"
   ]
  },
  {
   "cell_type": "code",
   "execution_count": 101,
   "metadata": {},
   "outputs": [],
   "source": [
    "def word_model(s1, s2, wordmodel):\n",
    "    if s1 == s2:\n",
    "        return 1.0\n",
    "    s1words = s1.split()\n",
    "    s2words = s2.split()\n",
    "    s1wordsset = set(s1words)\n",
    "    s2wordsset = set(s2words)\n",
    "    vocab = wordmodel.vocab  # the vocabulary considered in the word embeddings\n",
    "    if len(s1wordsset & s2wordsset) == 0:\n",
    "        return 0.0\n",
    "    for word in s1wordsset.copy():  # remove sentence words not found in the vocab\n",
    "        if word not in vocab:\n",
    "            s1wordsset.remove(word)\n",
    "    for word in s2wordsset.copy():  # idem\n",
    "        if word not in vocab:\n",
    "            s2wordsset.remove(word)\n",
    "    \n",
    "    if not (len(s1wordsset) and len(s2wordsset)):\n",
    "        return 0.0\n",
    "    else:\n",
    "        return wordmodel.n_similarity(s1wordsset, s2wordsset)\n",
    "\n",
    "\n",
    "def most_relevant_w(sentence1, ir_content, model):\n",
    "    score = {}\n",
    "    sentence = {}\n",
    "    score_=[]\n",
    "    test = False\n",
    "    for k, v in ir_content.items():\n",
    "        score[k] = word_model(preprocessor._tokenize_text(sentence1), preprocessor._tokenize_text(v), model)\n",
    "        sentence[int(k)] = v\n",
    "    for v in sorted(score.values(), reverse=True):\n",
    "        if v!=0.0:\n",
    "            score_.append(v)\n",
    "    #print(score)\n",
    "    if len(score_)==0:\n",
    "        return sorted(score.items(), key=lambda kv:(kv[1], kv[0]), reverse=True)[:1], sentence\n",
    "    else:\n",
    "#         diff = [j-i for i, j in zip(score_[:-1], score_[1:])]\n",
    "        diff1= []\n",
    "        \n",
    "        for i in range(1, len(score_)):\n",
    "            diff1.append(score_[i]-score_[0])\n",
    "        #print(diff1)\n",
    "        for i in range(len(diff1)):\n",
    "            if abs(diff1[i])<=0.201:\n",
    "                test = True\n",
    "                break\n",
    "        #print(diff1, top1)\n",
    "#         for i in range(len(diff)):\n",
    "#             if abs(diff[i]) < 0.2:\n",
    "#                 top.add(i)\n",
    "#                 top.add(i+1)\n",
    "        if test:\n",
    "            return  sorted(score.items(), key=lambda kv:(kv[1], kv[0]), reverse=True)[:2], sentence\n",
    "        else:\n",
    "            return sorted(score.items(), key=lambda kv:(kv[1], kv[0]), reverse=True)[:1], sentence\n",
    "    \n",
    "def most_relevant_avg(sentence1, ir_content):\n",
    "    score = {}\n",
    "    score_=[]\n",
    "    sentence = {}\n",
    "    test = False\n",
    "#     top = set()\n",
    "#     top1=set()\n",
    "    NER=pass_all(sentence1, ir_content)\n",
    "    #print(\"sdfasdf\")\n",
    "    #print(NER)\n",
    "    for k, v in ir_content.items():\n",
    "        #if k in NER:\n",
    "            sum_tot = word_model(preprocessor._tokenize_text(sentence1), preprocessor._tokenize_text(v), glove_model)\\\n",
    "                + word_model(preprocessor._tokenize_text(sentence1), preprocessor._tokenize_text(v), w2v_model)\n",
    "            score[k] = sum_tot\n",
    "            sentence[int(k)] = v\n",
    "    \n",
    "    for v in sorted(score.values(), reverse=True):\n",
    "        if v!=0.0:\n",
    "            score_.append(v)\n",
    "    #print(score)\n",
    "    if len(score_)==0:\n",
    "        return sorted(score.items(), key=lambda kv:(kv[1], kv[0]), reverse=True)[:1], sentence\n",
    "    else:\n",
    "#         diff = [j-i for i, j in zip(score_[:-1], score_[1:])]\n",
    "        diff1= []\n",
    "        \n",
    "        for i in range(1, len(score_)):\n",
    "            diff1.append(score_[i]-score_[0])\n",
    "        #print(diff1)\n",
    "        for i in range(len(diff1)):\n",
    "            if abs(diff1[i])<=0.201:\n",
    "                test = True\n",
    "                break\n",
    "        #print(diff1, top1)\n",
    "#         for i in range(len(diff)):\n",
    "#             if abs(diff[i]) < 0.2:\n",
    "#                 top.add(i)\n",
    "#                 top.add(i+1)\n",
    "        if test:\n",
    "            return  sorted(score.items(), key=lambda kv:(kv[1], kv[0]), reverse=True)[:2], sentence\n",
    "        else:\n",
    "            return sorted(score.items(), key=lambda kv:(kv[1], kv[0]), reverse=True)[:1], sentence\n",
    "\n",
    "\n",
    "\n"
   ]
  },
  {
   "cell_type": "code",
   "execution_count": 103,
   "metadata": {},
   "outputs": [],
   "source": [
    "def test_NER(claim, ir_content):\n",
    "    unique_NER=set()\n",
    "    for ent in spacy_nlp(claim).ents:\n",
    "        unique_NER.add(ent.label_)\n",
    "    \n",
    "    NER1={}\n",
    "    for k, v in ir_content.items():\n",
    "        w1=spacy_nlp(v)\n",
    "        NER = set()\n",
    "        for ent in w1.ents:\n",
    "            NER.add(ent.label_)\n",
    "        NER1[k]=NER\n",
    "#     print(unique_NER)\n",
    "#     print(NER1)\n",
    "    answer = {}\n",
    "    for k, v in NER1.items():\n",
    "        if unique_NER <= v:\n",
    "            answer[k]='y'\n",
    "        else:\n",
    "            answer[k]='n'\n",
    "#     print(answer)\n",
    "    return answer\n",
    "\n",
    "def pass_all(claim, ir_content):\n",
    "    all_pass=[]\n",
    "    for k,v in test_NER(claim, ir_content).items():\n",
    "        if v=='y':\n",
    "            all_pass.append(k)\n",
    "    return all_pass\n",
    "\n",
    "def output(claim, ir_content):\n",
    "    test, sentence = most_relevant_avg(claim, ir_content)\n",
    "    pass_tag = pass_all(claim, ir_content)\n",
    "    for k, v in test.copy():\n",
    "        #print(k, v)\n",
    "        if k not in pass_tag:\n",
    "            test.remove((k, v))\n",
    "    return test, sentence"
   ]
  },
  {
   "cell_type": "code",
   "execution_count": 104,
   "metadata": {},
   "outputs": [],
   "source": [
    "def get_topk_results(temps, topk):\n",
    "    results = []\n",
    "    while topk > 0:\n",
    "        max_score, max_sentence, max_resultid = 0, 0, 0\n",
    "        for i, temp in enumerate(temps):\n",
    "            for j, s in enumerate(temp['sent_score']):\n",
    "                if s[1] > max_score:\n",
    "                    max_score = s[1]\n",
    "                    max_sentence = s[0]\n",
    "                    max_resultid = i\n",
    "                    temps[i]['sent_score'][j] = (s[0], 0)\n",
    "    \n",
    "        results.append([max_resultid, max_sentence, max_score])\n",
    "        topk -= 1\n",
    "        \n",
    "    return results\n",
    "\n",
    "def sentence_select(claim, model):\n",
    "    ir_results, no_poss_title = aw.ir_search(claim)\n",
    "    #print(ir_results)\n",
    "    docK = len(ir_results) if not no_poss_title else 1\n",
    "    temp_list, evi_list, sentences_list = [], [], []\n",
    "    for i, doc in enumerate(ir_results):\n",
    "        retri_doc = aw.ir_get_content(doc.get(\"filename\"),doc.get(\"title\"))\n",
    "        temp_list.append({})\n",
    "        sentences = {}\n",
    "        \n",
    "        if retri_doc == {}:\n",
    "            docK -= 1\n",
    "            temp_list[i]['sent_score'] = [(-1,-1)]\n",
    "            sentences_list.append(sentences)\n",
    "            continue\n",
    "            \n",
    "        if model == 'g':\n",
    "            sent_score, sentences = most_relevant_w(claim, retri_doc, glove_model)\n",
    "        \n",
    "        elif model == 'w':\n",
    "            sent_score, sentences = most_relevant_w(claim, retri_doc, w2v_model)\n",
    "        elif model == 'a':\n",
    "            sent_score, sentences = most_relevant_avg(claim, retri_doc)\n",
    "        temp_list[i]['sent_score'] = sent_score\n",
    "        sentences_list.append(sentences)\n",
    "        \n",
    "    \n",
    "    if sentences == {}:\n",
    "        return []\n",
    "    \n",
    "    topk_results = get_topk_results(temps=temp_list, topk=len(sent_score))\n",
    "    \n",
    "    for i, result in enumerate(topk_results):\n",
    "        evi_list.append({})\n",
    "        r_id, s_id = int(result[0]), int(result[1])\n",
    "        evi_list[i]['doc'] = ir_results[r_id].get(\"title\")\n",
    "        evi_list[i]['filename'] = ir_results[r_id].get(\"filename\")\n",
    "        evi_list[i]['sent_id'] = s_id\n",
    "        evi_list[i]['sentence'] = sentences_list[r_id][s_id]\n",
    "        evi_list[i]['sim_score'] = result[2]\n",
    "    \n",
    "    return evi_list"
   ]
  },
  {
   "cell_type": "markdown",
   "metadata": {},
   "source": [
    "### 3.2 Get Top _K_ Sentences"
   ]
  },
  {
   "cell_type": "code",
   "execution_count": 109,
   "metadata": {},
   "outputs": [
    {
     "name": "stdout",
     "output_type": "stream",
     "text": [
      "[{'doc': 'Tetris', 'filename': 'wiki-094.txt', 'sent_id': 18, 'sentence': 'In January 2010 , it was announced that the Tetris franchise had sold more than 170 million copies , approximately 70 million physical copies and over 100 million copies for cell phones , making it the best selling paid-downloaded game of all time .', 'sim_score': 0.7738719532574108}]\n",
      "Time :  0.760935 secs\n"
     ]
    }
   ],
   "source": [
    "atime = time.time()\n",
    "evi_list = sentence_select(train['claim'].values[10], \"w\")\n",
    "print(evi_list)\n",
    "print_time(atime, 'Time')"
   ]
  },
  {
   "cell_type": "markdown",
   "metadata": {},
   "source": [
    "<a id='4'></a>\n",
    "## 4. Generate Prediction\n",
    "---"
   ]
  },
  {
   "cell_type": "markdown",
   "metadata": {},
   "source": [
    "### 4.1 Allennlp Textual Entailment (TE) model"
   ]
  },
  {
   "cell_type": "code",
   "execution_count": 110,
   "metadata": {},
   "outputs": [
    {
     "name": "stderr",
     "output_type": "stream",
     "text": [
      "Did not use initialization regex that was passed: .*token_embedder_tokens\\._projection.*weight\n"
     ]
    }
   ],
   "source": [
    "te_model = Predictor.from_path(\"https://s3-us-west-2.amazonaws.com/allennlp/models/decomposable-attention-elmo-2018.02.19.tar.gz\")"
   ]
  },
  {
   "cell_type": "code",
   "execution_count": 111,
   "metadata": {},
   "outputs": [],
   "source": [
    "def te_predict(hypothesis, premise):\n",
    "    result = te_model.predict(\n",
    "        hypothesis=hypothesis,\n",
    "        premise=premise\n",
    "    )\n",
    "    max_prob = max(result['label_probs'])\n",
    "    max_index = result['label_probs'].index(max_prob)\n",
    "    if max_index == 0:\n",
    "        return \"SUPPORTS\", max_prob\n",
    "    elif max_index == 1:\n",
    "        return \"REFUTES\", max_prob\n",
    "    else:\n",
    "        return \"NOT ENOUGH INFO\", max_prob"
   ]
  },
  {
   "cell_type": "code",
   "execution_count": 26,
   "metadata": {},
   "outputs": [],
   "source": [
    "#     max_prob = max(result['label_probs'][:2])\n",
    "#     max_index = result['label_probs'].index(max_prob)\n",
    "#     if max_index == 0:\n",
    "#         return \"SUPPORTS\", max_prob\n",
    "#     else:\n",
    "#         return \"REFUTES\", max_prob"
   ]
  },
  {
   "cell_type": "markdown",
   "metadata": {},
   "source": [
    "<a id='5'></a>\n",
    "## 5. Evaluation\n",
    "---"
   ]
  },
  {
   "cell_type": "markdown",
   "metadata": {},
   "source": [
    "### 5.1 Test Data"
   ]
  },
  {
   "cell_type": "code",
   "execution_count": 115,
   "metadata": {},
   "outputs": [],
   "source": [
    "def multi_process_eva(input_info):\n",
    "    atime=time.time()\n",
    "    filename, s_model = input_info[0], input_info[1]\n",
    "    \n",
    "    with open(filename, \"r+\") as jsonFile:\n",
    "        write_data = json.load(jsonFile)\n",
    "        line_num = 0\n",
    "        for line_id in write_data:\n",
    "            test_claim = write_data[line_id]['claim']\n",
    "            test_claim = test_claim.replace(\"\\\"\",\"\")\n",
    "            test_claim = test_claim.replace(\"/\",\" \")\n",
    "            label_list, evidences = [], []\n",
    "            most_label = \"NOT ENOUGH INFO\"\n",
    "\n",
    "            evi_list = sentence_select(test_claim, s_model)\n",
    "            if evi_list != []:\n",
    "                for i, evi in enumerate(evi_list):\n",
    "                    label, prob = te_predict(hypothesis=test_claim, premise = evi['sentence'])\n",
    "                    label_list.append(label)\n",
    "                    evi_list[i]['label'] = label\n",
    "                    evi_list[i]['te_score'] = prob\n",
    "\n",
    "                most_label = Counter(label_list).most_common(1)[0][0]\n",
    "\n",
    "            # update test.json\n",
    "            if most_label == \"NOT ENOUGH INFO\":\n",
    "                write_data[line_id]['label'] = most_label\n",
    "                write_data[line_id]['evidence'] = []\n",
    "            else:\n",
    "                write_data[line_id]['label'] = most_label\n",
    "                for evi in evi_list:\n",
    "                    if evi['label'] == most_label:\n",
    "                        temp_evi = [evi['doc'],evi['sent_id']]\n",
    "                        evidences.append(temp_evi)\n",
    "                write_data[line_id]['evidence'] = evidences\n",
    "\n",
    "            jsonFile.seek(0)  # rewind\n",
    "            json.dump(write_data, jsonFile, indent=4)\n",
    "            jsonFile.truncate()\n",
    "\n",
    "            if line_num % 1000 == 0:\n",
    "                print(line_num, end='\\t')\n",
    "                print_time(atime,\"Time\")\n",
    "            line_num += 1\n",
    "\n",
    "    print_time(atime,\"Time\")"
   ]
  },
  {
   "cell_type": "code",
   "execution_count": 116,
   "metadata": {},
   "outputs": [
    {
     "name": "stdout",
     "output_type": "stream",
     "text": [
      "0\tTime :  1.902717 secs\n",
      "Time :  903.724278 secs\n"
     ]
    }
   ],
   "source": [
    "multi_process_eva(('devset_0_500_q.json','w'))"
   ]
  },
  {
   "cell_type": "code",
   "execution_count": 232,
   "metadata": {},
   "outputs": [
    {
     "name": "stdout",
     "output_type": "stream",
     "text": [
      "Label Accuracy \t\t42.14%\r\n",
      "Sentence Precision \t43.04%\r\n",
      "Sentence Recall \t25.07%\r\n",
      "Sentence F1 \t\t31.69%\r\n",
      "Document Precision \t58.41%\r\n",
      "Document Recall \t33.81%\r\n",
      "Document F1 \t\t42.83%\r\n"
     ]
    }
   ],
   "source": [
    "!python3 score.py devset_0_500_a.json devset_0_500_q.json"
   ]
  },
  {
   "cell_type": "code",
   "execution_count": 187,
   "metadata": {},
   "outputs": [
    {
     "name": "stdout",
     "output_type": "stream",
     "text": [
      "Label Accuracy \t\t45.25%\r\n",
      "Sentence Precision \t37.93%\r\n",
      "Sentence Recall \t31.56%\r\n",
      "Sentence F1 \t\t34.45%\r\n",
      "Document Precision \t52.21%\r\n",
      "Document Recall \t39.60%\r\n",
      "Document F1 \t\t45.04%\r\n"
     ]
    }
   ],
   "source": [
    "\"\"\"First difference better\"\"\"\n",
    "!python3 score.py devset_0_500_a.json devset_0_500_q.json"
   ]
  },
  {
   "cell_type": "markdown",
   "metadata": {},
   "source": [
    "### 5.2 Dev Data"
   ]
  },
  {
   "cell_type": "code",
   "execution_count": 113,
   "metadata": {},
   "outputs": [],
   "source": [
    "with open('devset.json','r') as f:\n",
    "    data = json.load(f)\n",
    "\n",
    "data_a = defaultdict()\n",
    "data_q = defaultdict(defaultdict)\n",
    "line_num = 0\n",
    "for index in data:\n",
    "    if line_num > 0 and line_num < 500:\n",
    "        data_a[index] = data[index]\n",
    "        data_q[index]['claim'] = data[index]['claim']\n",
    "    line_num += 1\n",
    "        \n",
    "with open('devset_0_500_q.json', 'w') as f1:\n",
    "    json.dump(data_q, f1)\n",
    "with open('devset_0_500_a.json', 'w') as f1:\n",
    "    json.dump(data_a, f1)"
   ]
  },
  {
   "cell_type": "code",
   "execution_count": 59,
   "metadata": {},
   "outputs": [
    {
     "name": "stdout",
     "output_type": "stream",
     "text": [
      "Label Accuracy \t\t39.88%\r\n",
      "Sentence Precision \t33.65%\r\n",
      "Sentence Recall \t21.01%\r\n",
      "Sentence F1 \t\t25.87%\r\n",
      "Document Precision \t51.52%\r\n",
      "Document Recall \t37.39%\r\n",
      "Document F1 \t\t43.33%\r\n"
     ]
    }
   ],
   "source": [
    "!python3 score.py devset_0_500_a.json devset_0_500_q.json"
   ]
  },
  {
   "cell_type": "code",
   "execution_count": 201,
   "metadata": {},
   "outputs": [
    {
     "name": "stdout",
     "output_type": "stream",
     "text": [
      "Label Accuracy \t\t44.14%\n",
      "Sentence Precision \t35.72%\n",
      "Sentence Recall \t31.74%\n",
      "Sentence F1 \t\t33.62%\n",
      "Document Precision \t46.76%\n",
      "Document Recall \t45.05%\n",
      "Document F1 \t\t45.89%\n"
     ]
    }
   ],
   "source": [
    "!python3 score.py devset_0_1000_a.json devset_0_1000_q_average.json"
   ]
  },
  {
   "cell_type": "code",
   "execution_count": 29,
   "metadata": {},
   "outputs": [
    {
     "name": "stdout",
     "output_type": "stream",
     "text": [
      "Label Accuracy \t\t44.94%\n",
      "Sentence Precision \t41.86%\n",
      "Sentence Recall \t29.42%\n",
      "Sentence F1 \t\t34.55%\n",
      "Document Precision \t53.21%\n",
      "Document Recall \t40.43%\n",
      "Document F1 \t\t45.94%\n"
     ]
    }
   ],
   "source": [
    "!python3 score.py devset_0_1000_a.json devset_0_1000_q_w2v.json"
   ]
  },
  {
   "cell_type": "code",
   "execution_count": 35,
   "metadata": {},
   "outputs": [
    {
     "name": "stdout",
     "output_type": "stream",
     "text": [
      "Label Accuracy \t\t100.00%\n",
      "Sentence Precision \t100.00%\n",
      "Sentence Recall \t100.00%\n",
      "Sentence F1 \t\t100.00%\n",
      "Document Precision \t100.00%\n",
      "Document Recall \t100.00%\n",
      "Document F1 \t\t100.00%\n"
     ]
    }
   ],
   "source": [
    "!python3 score.py testoutput.json testoutput.json"
   ]
  },
  {
   "cell_type": "code",
   "execution_count": 29,
   "metadata": {},
   "outputs": [
    {
     "name": "stdout",
     "output_type": "stream",
     "text": [
      "Traceback (most recent call last):\r\n",
      "  File \"score.py\", line 20, in <module>\r\n",
      "    alabel = arecord['label'].upper()\r\n",
      "KeyError: 'label'\r\n"
     ]
    }
   ],
   "source": [
    "!python3 score.py devset_0_500_q.json devset_0_500_a.json"
   ]
  },
  {
   "cell_type": "code",
   "execution_count": 117,
   "metadata": {},
   "outputs": [
    {
     "name": "stdout",
     "output_type": "stream",
     "text": [
      "Label Accuracy \t\t48.30%\r\n",
      "Sentence Precision \t36.68%\r\n",
      "Sentence Recall \t29.73%\r\n",
      "Sentence F1 \t\t32.84%\r\n",
      "Document Precision \t51.28%\r\n",
      "Document Recall \t40.46%\r\n",
      "Document F1 \t\t45.23%\r\n"
     ]
    }
   ],
   "source": [
    "!python3 score.py devset_0_500_a.json devset_0_500_q.json"
   ]
  },
  {
   "cell_type": "code",
   "execution_count": null,
   "metadata": {},
   "outputs": [],
   "source": []
  }
 ],
 "metadata": {
  "kernelspec": {
   "display_name": "Python 3",
   "language": "python",
   "name": "python3"
  },
  "language_info": {
   "codemirror_mode": {
    "name": "ipython",
    "version": 3
   },
   "file_extension": ".py",
   "mimetype": "text/x-python",
   "name": "python",
   "nbconvert_exporter": "python",
   "pygments_lexer": "ipython3",
   "version": "3.6.8"
  },
  "latex_envs": {
   "LaTeX_envs_menu_present": true,
   "autoclose": false,
   "autocomplete": true,
   "bibliofile": "biblio.bib",
   "cite_by": "apalike",
   "current_citInitial": 1,
   "eqLabelWithNumbers": true,
   "eqNumInitial": 1,
   "hotkeys": {
    "equation": "Ctrl-E",
    "itemize": "Ctrl-I"
   },
   "labels_anchors": false,
   "latex_user_defs": false,
   "report_style_numbering": false,
   "user_envs_cfg": false
  },
  "toc": {
   "base_numbering": 1,
   "nav_menu": {},
   "number_sections": true,
   "sideBar": true,
   "skip_h1_title": false,
   "title_cell": "Table of Contents",
   "title_sidebar": "Contents",
   "toc_cell": false,
   "toc_position": {},
   "toc_section_display": true,
   "toc_window_display": false
  }
 },
 "nbformat": 4,
 "nbformat_minor": 2
}
